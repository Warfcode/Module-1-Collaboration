{
 "cells": [
  {
   "cell_type": "code",
   "execution_count": 11,
   "id": "1aef34f1-c94f-43fb-87ef-750475678366",
   "metadata": {},
   "outputs": [
    {
     "name": "stdout",
     "output_type": "stream",
     "text": [
      "3600\n",
      "3600\n",
      "86400\n",
      "86400\n",
      "24.0\n",
      "24\n"
     ]
    }
   ],
   "source": [
    "\n",
    "\n",
    "# 3.1 - How many seconds are in an hour?\n",
    "SecondsInHour = 60 ** 2\n",
    "print(f\"{SecondsInHour}\")\n",
    "\n",
    "# 3.2 - Store the value of SecondsInHour to a new variable called seconds_per_hour\n",
    "seconds_per_hour = SecondsInHour\n",
    "print(f\"{seconds_per_hour}\")\n",
    "\n",
    "# 3.3 How many seconds are in a day? use the seconds_per_hour variable created from last example\n",
    "SecondsInDay = seconds_per_hour * 24\n",
    "print(f\"{SecondsInDay}\")\n",
    "\n",
    "# 3.4 - Calculate how many seconds are in a day but this time store it in a variable called seconds_per_day\n",
    "seconds_per_day = seconds_per_hour * 24\n",
    "print(f\"{seconds_per_day}\")\n",
    "\n",
    "# 3.5 - Divide seconds_per_day by seconds_per_hour using floating-point division (/)\n",
    "print(f\"{seconds_per_day / seconds_per_hour}\")\n",
    "\n",
    "# 3.6 - Divide seconds_per_day by seconds_per_hour using integer division (//)\n",
    "print(f\"{seconds_per_day // seconds_per_hour} ...yes, it did agree with the previous answer minus the decimal and the values afterwards\")\n",
    "\n",
    "# ==================================================================================================================\n",
    "\n",
    "#3.1 How many seconds are in an hour? Use the interactive interpreter \n",
    "#as a calculator and multiply the number of seconds in a minute (60) by the number of minutes in an hour (also 60).\n",
    "\n",
    "#3.2 Assign the result from the previous task (seconds in an hour) to \n",
    "#a variable called seconds_per_hour.\n",
    "\n",
    "#3.3 How many seconds are in a day? Use your seconds_per_hour variable.\n",
    "\n",
    "#3.4 Calculate seconds per day again, but this time save the result in\n",
    "#a variable called seconds_per_day.\n",
    "\n",
    "#3.5 Divide seconds_per_day by seconds_per_hour. Use floating-point (/) division.\n",
    "\n",
    "#3.6 Divide seconds_per_day by seconds_per_hour, using integer (//) division. Did\n",
    "#this number agree with the floating-point value from the previous question, aside from the final .0?\n"
   ]
  },
  {
   "cell_type": "code",
   "execution_count": null,
   "id": "568e3ee2-7e60-4492-a016-c1e91ff863cc",
   "metadata": {},
   "outputs": [],
   "source": []
  }
 ],
 "metadata": {
  "kernelspec": {
   "display_name": "Python [conda env:base] *",
   "language": "python",
   "name": "conda-base-py"
  },
  "language_info": {
   "codemirror_mode": {
    "name": "ipython",
    "version": 3
   },
   "file_extension": ".py",
   "mimetype": "text/x-python",
   "name": "python",
   "nbconvert_exporter": "python",
   "pygments_lexer": "ipython3",
   "version": "3.12.7"
  }
 },
 "nbformat": 4,
 "nbformat_minor": 5
}
